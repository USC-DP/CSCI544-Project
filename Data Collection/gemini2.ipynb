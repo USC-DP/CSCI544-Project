{
  "nbformat": 4,
  "nbformat_minor": 0,
  "metadata": {
    "colab": {
      "provenance": []
    },
    "kernelspec": {
      "name": "python3",
      "display_name": "Python 3"
    },
    "language_info": {
      "name": "python"
    }
  },
  "cells": [
    {
      "cell_type": "code",
      "source": [
        "!pip install -q -U google-generativeai"
      ],
      "metadata": {
        "colab": {
          "base_uri": "https://localhost:8080/"
        },
        "id": "QR1nlFU-B_LY",
        "outputId": "4c8001ef-391e-4347-b5db-ce762dc8bc47"
      },
      "execution_count": 1,
      "outputs": [
        {
          "output_type": "stream",
          "name": "stdout",
          "text": [
            "\u001b[2K     \u001b[90m━━━━━━━━━━━━━━━━━━━━━━━━━━━━━━━━━━━━━━━━\u001b[0m \u001b[32m137.4/137.4 kB\u001b[0m \u001b[31m1.2 MB/s\u001b[0m eta \u001b[36m0:00:00\u001b[0m\n",
            "\u001b[?25h"
          ]
        }
      ]
    },
    {
      "cell_type": "code",
      "source": [
        "import pathlib\n",
        "import google.generativeai as genai"
      ],
      "metadata": {
        "id": "2PcXqYQCCaeO"
      },
      "execution_count": 2,
      "outputs": []
    },
    {
      "cell_type": "code",
      "source": [
        "from google.colab import userdata\n",
        "GOOGLE_API_KEY=userdata.get('GOOGLE_API_KEY')\n",
        "genai.configure(api_key=GOOGLE_API_KEY)"
      ],
      "metadata": {
        "id": "A9e_xTkyCrGa"
      },
      "execution_count": 3,
      "outputs": []
    },
    {
      "cell_type": "code",
      "source": [
        "for m in genai.list_models():\n",
        "  if 'generateContent' in m.supported_generation_methods:\n",
        "    print(m.name)"
      ],
      "metadata": {
        "id": "uvb-2cf5N75-"
      },
      "execution_count": null,
      "outputs": []
    },
    {
      "cell_type": "code",
      "source": [
        "model = genai.GenerativeModel('gemini-1.0-pro-001')"
      ],
      "metadata": {
        "id": "XybeFXkcEcqH"
      },
      "execution_count": 5,
      "outputs": []
    },
    {
      "cell_type": "code",
      "execution_count": 30,
      "metadata": {
        "id": "5fhvzbpc9vLL"
      },
      "outputs": [],
      "source": [
        "import os\n",
        "import pandas as pd\n",
        "from tqdm import tqdm\n",
        "import time\n",
        "\n",
        "def getGemini10Pro001Response(prompt):\n",
        "    # sleep to avoid api limits, should take ~15 minutes in total\n",
        "    # time.sleep(1)\n",
        "    response = model.generate_content(prompt).text\n",
        "    return response\n",
        "\n",
        "def getLLMResponse(prompt):\n",
        "    return getGemini10Pro001Response(prompt)\n",
        "\n",
        "def getGeminiChatResponse(model,question,subquestions): #model type / large question in str/ subquestions in array\n",
        "\n",
        "    header_instruction = ''' This is an example scenario and the rules defined for that scenario ''' ##### the one for starting the chat\n",
        "    header_last_instruction=''' Given this, wait for the subproblems I give you and answer them accordingly   '''\n",
        "    final_instruction = ''' Given the answers you have generated for the subproblems, answer the final question ''' ### what's the best answer etc...\n",
        "    chat = model.start_chat(history=[])\n",
        "    response = chat.send_message(header_instruction + question +header_last_instruction )\n",
        "    for subs in subquestions:\n",
        "        response = chat.send_message(subs)\n",
        "    response  = chat.send_message(final_instruction)\n",
        "    # return response.text\n",
        "    history =\"\"\n",
        "    for message in chat.history:\n",
        "        history += message.role + \": \" + message.parts[0].text + \"\\n\"\n",
        "    return history, response"
      ]
    },
    {
      "cell_type": "code",
      "source": [
        "his,res = getGeminiChatResponse(model,\"i will gave you some information first, and then ask you a question\",[\"i'm 7,0\",\"i'm 280lb\",\"i can run 100m in 10s\",\"i can shoot 3 point 100 in a row\"])"
      ],
      "metadata": {
        "id": "LGSnjYmip1K9"
      },
      "execution_count": 33,
      "outputs": []
    },
    {
      "cell_type": "code",
      "source": [
        "print(his)"
      ],
      "metadata": {
        "colab": {
          "base_uri": "https://localhost:8080/"
        },
        "id": "oQQjkcBLTzl1",
        "outputId": "5e259f61-7189-4f38-a937-a62201014835"
      },
      "execution_count": 34,
      "outputs": [
        {
          "output_type": "stream",
          "name": "stdout",
          "text": [
            "user:  i will gave you some information first, and then ask you a question\n",
            "model: Sure. I'm ready for your information and question.\n",
            "user: i'm 7,0\n",
            "model: What is your question?\n",
            "user: i'm 280lb\n",
            "model: What is your question?\n",
            "user: i can run 100m in 10s\n",
            "model: What is your question?\n",
            "user: i can shoot 3 point 100 in a row\n",
            "model: What is your question?\n",
            "user:  list all my advantage on basketball\n",
            "model: * **Height:** At 7'0\", you have a significant height advantage over most other players on the court. This gives you an advantage in rebounding, shot blocking, and defending the post.\n",
            "* **Weight:** At 280 lbs, you have a significant weight advantage over most other players on the court. This gives you an advantage in strength and physicality, which can be helpful in rebounding, setting screens, and defending the post.\n",
            "* **Speed:** You can run 100m in 10 seconds, which is very fast for a player of your size. This gives you an advantage in getting down the court on fast breaks and closing out on shooters.\n",
            "* **Shooting:** You can shoot 3-pointers 100 in a row, which is an excellent shooting ability. This gives you an advantage in spacing the floor and creating scoring opportunities for yourself and your teammates.\n",
            "\n",
            "Overall, you have a number of advantages on the basketball court, including your height, weight, speed, and shooting ability. These advantages can help you to be a successful player at any level.\n",
            "\n"
          ]
        }
      ]
    },
    {
      "cell_type": "code",
      "source": [
        "print(res)"
      ],
      "metadata": {
        "colab": {
          "base_uri": "https://localhost:8080/"
        },
        "id": "eQRrrfwWU5eD",
        "outputId": "5510622f-2eac-459f-f336-649be2e2e482"
      },
      "execution_count": 27,
      "outputs": [
        {
          "output_type": "stream",
          "name": "stdout",
          "text": [
            "* **Height:** At 7'0\", you have a significant height advantage over most other players on the court. This gives you an advantage in rebounding, blocking shots, and scoring in the paint.\n",
            "* **Weight:** At 280 lbs., you have a significant weight advantage over most other players on the court. This gives you an advantage in strength and physicality, which can be helpful in rebounding, setting screens, and defending in the post.\n",
            "* **Speed:** Despite your size, you are able to run 100 meters in 10 seconds. This gives you an advantage in getting down the court quickly on offense and defense.\n",
            "* **Shooting:** You are able to shoot 3-pointers with a high degree of accuracy. This gives you an advantage in spacing the floor and creating scoring opportunities for yourself and your teammates.\n",
            "\n",
            "Overall, your physical attributes give you a number of advantages on the basketball court. You should use these advantages to your advantage and work to develop your skills in other areas of the game, such as ball handling, passing, and defense.\n"
          ]
        }
      ]
    },
    {
      "cell_type": "code",
      "source": [
        "# def getBaseAnswers(dataDf):\n",
        "#     BASE_ANS_DIR = './Gemini_results.json'\n",
        "\n",
        "#     saveDf = None#pd.DataFrame(columns=['question', 'reasoning', 'subproblems', 'label'])\n",
        "#     #saveDf = #saveDf.astype(str)\n",
        "\n",
        "#     for index, row in tqdm(dataDf.iterrows(), total=len(dataDf)):\n",
        "#         prompt = row['example'] + \"\\n The label is what (proved, disproved, unknown)?\"\n",
        "#         response = getLLMResponse(prompt)\n",
        "#         # if saveDf is None:\n",
        "#         #     saveDf = pd.DataFrame(columns=['question', 'reasoning', 'subproblems', 'label'])\n",
        "#         #     saveDf = saveDf.astype(str)\n",
        "#         # else:\n",
        "#         #     saveDf = pd.read_json(BASE_ANS_DIR, dtype=str)\n",
        "\n",
        "#         # new_record = {\n",
        "#         #     'question': row['example'],\n",
        "#         #     'gold-reasoning': row['proof'],\n",
        "#         #     'subproblems': '',\n",
        "#         #     'chat-gpt-3.5-turbo-ans': response,\n",
        "#         #     'label': row['label'],\n",
        "#         # }\n",
        "#         # temp_df = pd.DataFrame([new_record])\n",
        "#         # saveDf = pd.concat([saveDf, temp_df], ignore_index=True)\n",
        "#         # saveDf.to_json(BASE_ANS_DIR, orient='records')\n",
        "import csv\n",
        "import json\n",
        "def getBaseAnswers(dataDf):\n",
        "    # Specify the path for the output CSV file\n",
        "    output_csv_path = '/content/drive/MyDrive/gemini/data/Gemini_results.csv'\n",
        "\n",
        "    # Open the CSV file for writing\n",
        "    with open(output_csv_path, mode='w', newline='', encoding='utf-8') as file:\n",
        "        writer = csv.writer(file)\n",
        "        # Write the header row\n",
        "        writer.writerow(['Example', 'Response'])\n",
        "        count = 0\n",
        "        for index, row in tqdm(dataDf.iterrows(), total=dataDf.shape[0]):\n",
        "            # Construct the prompt from the 'example' column\n",
        "            prompt = row['example'] + \"\\n The label is what (proved, disproved, unknown)?\"\n",
        "            # Get the response from your API call function\n",
        "            response = getLLMResponse(prompt)\n",
        "            # Write the current 'example' and its 'response' to the CSV\n",
        "            writer.writerow([row['example'], response])\n",
        "            count += 1\n",
        "            print(\"The response for \" + str(count) + \"is: \",response)"
      ],
      "metadata": {
        "id": "gxOA0Bi0BvGU"
      },
      "execution_count": 24,
      "outputs": []
    },
    {
      "cell_type": "code",
      "source": [
        "def main():\n",
        "    dataPath = \"/content/drive/MyDrive/gemini/data/test.json\"\n",
        "    df = pd.read_json(dataPath, dtype=str)\n",
        "    getBaseAnswers(df)\n",
        "\n",
        "if __name__ == \"__main__\":\n",
        "    main()\n",
        "\n",
        "    # Load data\n",
        "    # get initial response\n",
        "    # break down questions using reasoning (custom model, LLAMA)\n",
        "# Iteratively answer the subquestions based on the model, context, and subquestions\n",
        "# get a final answer\n",
        "# compare"
      ],
      "metadata": {
        "id": "9AhIDWIzBxO7"
      },
      "execution_count": null,
      "outputs": []
    },
    {
      "cell_type": "code",
      "source": [
        "import os\n",
        "import pandas as pd\n",
        "from tqdm import tqdm\n",
        "dataPath = \"/content/drive/MyDrive/gemini/data/output-subproblems-parsed.json\"\n",
        "dataDf = pd.read_json(dataPath, dtype=str)\n",
        "for index, row in tqdm(dataDf.iterrows(), total=dataDf.shape[0]):\n",
        "            # Construct the prompt from the 'example' column\n",
        "            # Extract the \"subproblems\" attribute and split it into an array\n",
        "            subproblems = row[\"subproblems\"].split(\"||\")\n",
        "            for subproblem in subproblems:\n",
        "                # Do something with each subproblem\n",
        "                print(subproblem)\n",
        "            # prompt = row['example']\n",
        "             # Get the response from your API call function\n",
        "            # response = getLLMResponse(prompt)\n"
      ],
      "metadata": {
        "id": "dp_GjWH6lyOg"
      },
      "execution_count": null,
      "outputs": []
    }
  ]
}
